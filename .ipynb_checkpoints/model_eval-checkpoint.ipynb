{
 "cells": [
  {
   "cell_type": "markdown",
   "metadata": {},
   "source": [
    "# Continuous Systolic and Diastolic Blood Pressure Estimation Utilizing Long Short-term Memory Network"
   ]
  },
  {
   "cell_type": "markdown",
   "metadata": {},
   "source": [
    "This Code is the implementation from papers [Continuous Systolic and Diastolic Blood Pressure Estimation Utilizing Long Short-term Memory Network](https://ieeexplore.ieee.org/document/8037207)\n",
    "Using ECG and PPG signals to predict Systolic and Diastolic Blood Pressure"
   ]
  },
  {
   "cell_type": "markdown",
   "metadata": {},
   "source": [
    "## Model Performance Evaluation\n",
    "Using k-fold cross validation"
   ]
  },
  {
   "cell_type": "markdown",
   "metadata": {},
   "source": [
    "## Step 1: Load Dataset\n",
    "If you haven't run preprocess.py yet, please run the preprocess.py first otherwise this code below will not work."
   ]
  },
  {
   "cell_type": "code",
   "execution_count": 25,
   "metadata": {},
   "outputs": [],
   "source": [
    "import matplotlib.pyplot as plt\n",
    "import numpy as np\n",
    "from util import *\n",
    "from model import *\n",
    "from sklearn.metrics import mean_squared_error, mean_absolute_error\n",
    "from math import sqrt\n",
    "from keras.callbacks import EarlyStopping\n",
    "import pandas as pd\n",
    "from pyCompare import blandAltman\n",
    "from sklearn.model_selection import train_test_split, KFold\n",
    "from sklearn.utils import shuffle\n",
    "import random\n",
    "\n",
    "import os\n",
    "os.environ[\"CUDA_VISIBLE_DEVICES\"] = '0'\n",
    "random.seed(0)"
   ]
  },
  {
   "cell_type": "code",
   "execution_count": 3,
   "metadata": {},
   "outputs": [],
   "source": [
    "data_path = 'data/'"
   ]
  },
  {
   "cell_type": "code",
   "execution_count": 4,
   "metadata": {},
   "outputs": [],
   "source": [
    "X_main = np.load(data_path+'x_main.npy')\n",
    "y_main = np.load(data_path+'y_main.npy')\n",
    "X_test = np.load(data_path+'x_test.npy')\n",
    "y_test = np.load(data_path+'y_test.npy')"
   ]
  },
  {
   "cell_type": "markdown",
   "metadata": {},
   "source": [
    "load max/min data for normalization"
   ]
  },
  {
   "cell_type": "code",
   "execution_count": 5,
   "metadata": {},
   "outputs": [],
   "source": [
    "min_max = np.load(data_path+'min_max.npy')\n",
    "ppg_all_min, ppg_all_max = min_max[0]\n",
    "ecg_all_min, ecg_all_max = min_max[1]\n",
    "abp_all_min, abp_all_max = min_max[2]"
   ]
  },
  {
   "cell_type": "markdown",
   "metadata": {},
   "source": [
    "## Step 2: load model and train\n",
    "If you've already trained the model skip this step."
   ]
  },
  {
   "cell_type": "code",
   "execution_count": 6,
   "metadata": {},
   "outputs": [],
   "source": [
    "if not os.path.isdir('./weights/'):\n",
    "    os.mkdir('./weights/')"
   ]
  },
  {
   "cell_type": "code",
   "execution_count": 7,
   "metadata": {},
   "outputs": [],
   "source": [
    "batch_size = 512\n",
    "epochs = 10\n",
    "timewindow = 32"
   ]
  },
  {
   "cell_type": "markdown",
   "metadata": {},
   "source": [
    "find min/max for training data"
   ]
  },
  {
   "cell_type": "code",
   "execution_count": 10,
   "metadata": {},
   "outputs": [],
   "source": [
    "ppg_train_conv = convert_to_2d(X_main, 0)\n",
    "ecg_train_conv = convert_to_2d(X_main, 1)\n",
    "abp_train_conv = convert_to_2d(y_main)"
   ]
  },
  {
   "cell_type": "code",
   "execution_count": 13,
   "metadata": {},
   "outputs": [],
   "source": [
    "ppg_train_min, ppg_train_max = find_max_min(ppg_train_conv)\n",
    "ecg_train_min, ecg_train_max = find_max_min(ecg_train_conv)\n",
    "abp_train_min, abp_train_max = find_max_min(abp_train_conv)"
   ]
  },
  {
   "cell_type": "markdown",
   "metadata": {},
   "source": [
    "**Save min/max for training data to file**"
   ]
  },
  {
   "cell_type": "code",
   "execution_count": 14,
   "metadata": {},
   "outputs": [],
   "source": [
    "np.save(data_path+'min_max_train.npy', np.array([\n",
    "    [ppg_train_min, ppg_train_max],\n",
    "    [ecg_train_min, ecg_train_max],\n",
    "    [abp_train_min, abp_train_max]\n",
    "]))"
   ]
  },
  {
   "cell_type": "markdown",
   "metadata": {},
   "source": [
    "define k-fold and number of splits (normally we chose 5 or 10)"
   ]
  },
  {
   "cell_type": "code",
   "execution_count": 23,
   "metadata": {},
   "outputs": [],
   "source": [
    "kf = KFold(n_splits=5, random_state=42)\n",
    "count = 1\n",
    "results = []"
   ]
  },
  {
   "cell_type": "markdown",
   "metadata": {},
   "source": [
    "Each iteration performs:\n",
    "- convert dataset to timeseries\n",
    "- train the model and collect the performance"
   ]
  },
  {
   "cell_type": "code",
   "execution_count": null,
   "metadata": {},
   "outputs": [],
   "source": [
    "for t, v in kf.split(X_main):\n",
    "    print('='*30)\n",
    "    print('Starting fold: ', count)\n",
    "    print('-'*30)\n",
    "    X_train = np.array([X_main[i] for i in t])\n",
    "    y_train = np.array([y_main[i] for i in t])\n",
    "    X_valid = np.array([X_main[i] for i in v])\n",
    "    y_valid = np.array([y_main[i] for i in v])\n",
    "    \n",
    "    encoder_input = []\n",
    "    decoder_output = []\n",
    "    decoder_input = []\n",
    "    print('Start converting training set to timeseries...')\n",
    "    for i in range(X_train.shape[0]):\n",
    "        s_x, z_y, s_y = to_timeseries(X_train[i], y_train[i], is_train=True, max_len=timewindow)\n",
    "        encoder_input.extend(s_x)\n",
    "        decoder_output.extend(s_y)\n",
    "        decoder_input.extend(z_y)\n",
    "    encoder_input = np.array(encoder_input)\n",
    "    decoder_output = np.array(decoder_output)\n",
    "    decoder_input = np.array(decoder_input)\n",
    "    print('Done converting training set to timeseries...')\n",
    "    print('Num of sequences: ', encoder_input.shape[0])\n",
    "    print('-'*30)\n",
    "    \n",
    "    encoder_input_valid = []\n",
    "    decoder_output_valid = []\n",
    "    decoder_input_valid = []\n",
    "    print('Start converting validation set to timeseries...')\n",
    "    for i in range(X_valid.shape[0]):\n",
    "        s_x, z_y, s_y = to_timeseries(X_valid[i], y_valid[i], is_train=False, max_len=timewindow)\n",
    "        encoder_input_valid.extend(s_x)\n",
    "        decoder_output_valid.extend(s_y)\n",
    "        decoder_input_valid.extend(z_y)\n",
    "    encoder_input_valid = np.array(encoder_input_valid)\n",
    "    decoder_output_valid = np.array(decoder_output_valid)\n",
    "    decoder_input_valid = np.array(decoder_input_valid)\n",
    "    print('Done converting validation set to timeseries...')\n",
    "    print('Num of sequences: ', encoder_input_valid.shape[0])\n",
    "    print('='*30)\n",
    "    \n",
    "    model = create_model()\n",
    "    callbacks = [\n",
    "        EarlyStopping(monitor='val_loss', patience=2)\n",
    "    ]\n",
    "    model.fit([encoder_input, decoder_input], decoder_output, \n",
    "              validation_data=([encoder_input_valid, decoder_input_valid], decoder_output_valid)\n",
    "              batch_size=batch_size, epochs=epochs, shuffle=True, verbose=1, callbacks=callbacks)\n",
    "    \n",
    "    result = model.evaluate([encoder_input_valid, decoder_input_valid], decoder_output_valid, batch_size=batch_size)\n",
    "    results.append(result[0])\n",
    "    \n",
    "    count += 1"
   ]
  },
  {
   "cell_type": "markdown",
   "metadata": {},
   "source": [
    "## Step 3: Experimental Results"
   ]
  },
  {
   "cell_type": "code",
   "execution_count": null,
   "metadata": {},
   "outputs": [],
   "source": [
    "print('Averange RMSE result from this model: ', np.mean(results))"
   ]
  }
 ],
 "metadata": {
  "kernelspec": {
   "display_name": "Python 3",
   "language": "python",
   "name": "python3"
  },
  "language_info": {
   "codemirror_mode": {
    "name": "ipython",
    "version": 3
   },
   "file_extension": ".py",
   "mimetype": "text/x-python",
   "name": "python",
   "nbconvert_exporter": "python",
   "pygments_lexer": "ipython3",
   "version": "3.6.8"
  }
 },
 "nbformat": 4,
 "nbformat_minor": 2
}
